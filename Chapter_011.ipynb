{
  "nbformat": 4,
  "nbformat_minor": 0,
  "metadata": {
    "colab": {
      "name": "Chapter_011.ipynb",
      "provenance": [],
      "collapsed_sections": [],
      "authorship_tag": "ABX9TyNYLv/rD4aUdFzwtdNF4qty",
      "include_colab_link": true
    },
    "kernelspec": {
      "display_name": "Python 3",
      "name": "python3"
    },
    "language_info": {
      "name": "python"
    }
  },
  "cells": [
    {
      "cell_type": "markdown",
      "metadata": {
        "id": "view-in-github",
        "colab_type": "text"
      },
      "source": [
        "<a href=\"https://colab.research.google.com/github/nattwipa/nattwipa/blob/circleci-project-setup/Chapter_011.ipynb\" target=\"_parent\"><img src=\"https://colab.research.google.com/assets/colab-badge.svg\" alt=\"Open In Colab\"/></a>"
      ]
    },
    {
      "cell_type": "code",
      "metadata": {
        "colab": {
          "base_uri": "https://localhost:8080/"
        },
        "id": "naIDJl2dR3a_",
        "outputId": "486b8bd6-11cf-4ede-a582-ec98b9b29187"
      },
      "source": [
        "print(\"สวัสดีค่ะ\");\n"
      ],
      "execution_count": null,
      "outputs": [
        {
          "name": "stdout",
          "output_type": "stream",
          "text": [
            "สวัสดีค่ะ\n"
          ]
        }
      ]
    },
    {
      "cell_type": "code",
      "metadata": {
        "id": "NNNjzIR_zr4J"
      },
      "source": [
        "กรอกข้อมูล b = 10\n",
        "  กรอกข้อมูล c = 20\n",
        "  print a\n",
        "  a = b+c"
      ],
      "execution_count": null,
      "outputs": []
    },
    {
      "cell_type": "code",
      "metadata": {
        "colab": {
          "base_uri": "https://localhost:8080/"
        },
        "id": "biFlR6x1ztZO",
        "outputId": "6e37ddb9-d60c-40fa-8320-6a7ed9b9c9ee"
      },
      "source": [
        "b = 10 \n",
        "c = 20\n",
        "a=b+c;\n",
        "print(a)"
      ],
      "execution_count": null,
      "outputs": [
        {
          "name": "stdout",
          "output_type": "stream",
          "text": [
            "30\n"
          ]
        }
      ]
    },
    {
      "cell_type": "code",
      "metadata": {
        "colab": {
          "background_save": true,
          "base_uri": "https://localhost:8080/"
        },
        "id": "LCSQ--grz9xv",
        "outputId": "e4945e8f-9404-4e04-f97d-779f6de7b3ae"
      },
      "source": [
        "print ('Login My Page' )\n",
        "username = input ('Username : ')\n",
        "password = input ('Password : ')\n",
        "\n",
        "if (username == 'potjanee' and password == '000777' ):\n",
        "  print ('Welcome to my web , you\\.ve logged in.' )\n",
        "else :\n",
        "  print ('Invalid username or password. ')"
      ],
      "execution_count": null,
      "outputs": [
        {
          "name": "stdout",
          "output_type": "stream",
          "text": [
            "Login My Page\n"
          ]
        }
      ]
    },
    {
      "cell_type": "code",
      "metadata": {
        "colab": {
          "base_uri": "https://localhost:8080/"
        },
        "id": "0zF-h8X_0CIQ",
        "outputId": "7ac2f872-bd14-4eaa-9ba9-8edaeff79387"
      },
      "source": [
        "orr = 0\n",
        "orr = orr + 3\n",
        "orr = orr - 50\n",
        "orr = orr * 3\n",
        "orr = orr / 3\n",
        "orr = orr // 3\n",
        "print(orr)\n"
      ],
      "execution_count": null,
      "outputs": [
        {
          "name": "stdout",
          "output_type": "stream",
          "text": [
            "-16.0\n"
          ]
        }
      ]
    },
    {
      "cell_type": "code",
      "metadata": {
        "id": "Ng0ez7FppxTb"
      },
      "source": [
        "#บทที่ 2 ตัวแปรชุด (Array)"
      ],
      "execution_count": null,
      "outputs": []
    },
    {
      "cell_type": "code",
      "metadata": {
        "colab": {
          "base_uri": "https://localhost:8080/"
        },
        "id": "lIYHqiydqPiB",
        "outputId": "c9538671-7216-4eff-acfa-cb2116372d80"
      },
      "source": [
        "a = list(range(0,10))\n",
        "%timeit sum(a)"
      ],
      "execution_count": null,
      "outputs": [
        {
          "output_type": "stream",
          "name": "stdout",
          "text": [
            "The slowest run took 10.59 times longer than the fastest. This could mean that an intermediate result is being cached.\n",
            "10000000 loops, best of 5: 196 ns per loop\n"
          ]
        }
      ]
    },
    {
      "cell_type": "code",
      "metadata": {
        "colab": {
          "base_uri": "https://localhost:8080/"
        },
        "id": "iKLByULmufz2",
        "outputId": "27e498af-432a-43e8-ac9b-3ba72730c1ed"
      },
      "source": [
        "import numpy as np #ฟังก์ชันการใช้เรียก library numpy โดยสามารถใช้ 'np'โดยใช้การเรียกแทน numpy\n",
        "a = np.array(list(range(0,10000)))\n",
        "%timeit np.sum(a)"
      ],
      "execution_count": null,
      "outputs": [
        {
          "output_type": "stream",
          "name": "stdout",
          "text": [
            "The slowest run took 339.09 times longer than the fastest. This could mean that an intermediate result is being cached.\n",
            "100000 loops, best of 5: 11.6 µs per loop\n"
          ]
        }
      ]
    },
    {
      "cell_type": "code",
      "metadata": {
        "colab": {
          "base_uri": "https://localhost:8080/"
        },
        "id": "DPbiYtE-yDOS",
        "outputId": "6902a9db-066b-489f-d261-bf9a1305c8b9"
      },
      "source": [
        "a = [1,2,3]\n",
        "b = [10,20,30]\n",
        "#a+b\n",
        "c = a+b\n",
        "print(c)\n",
        "%timeit sum(c)"
      ],
      "execution_count": null,
      "outputs": [
        {
          "output_type": "stream",
          "name": "stdout",
          "text": [
            "[1, 2, 3, 10, 20, 30]\n",
            "The slowest run took 10.77 times longer than the fastest. This could mean that an intermediate result is being cached.\n",
            "10000000 loops, best of 5: 174 ns per loop\n"
          ]
        }
      ]
    },
    {
      "cell_type": "code",
      "metadata": {
        "colab": {
          "base_uri": "https://localhost:8080/"
        },
        "id": "QY6ajA3bzCrf",
        "outputId": "06ab17d7-10be-4936-c29f-6c844c358e1a"
      },
      "source": [
        "d=np.array([1,2,3])\n",
        "e=np.array([10,20,30])\n",
        "f=d+e\n",
        "print(f)\n",
        "%timeit sum(f)"
      ],
      "execution_count": null,
      "outputs": [
        {
          "output_type": "stream",
          "name": "stdout",
          "text": [
            "[11 22 33]\n",
            "The slowest run took 28.51 times longer than the fastest. This could mean that an intermediate result is being cached.\n",
            "1000000 loops, best of 5: 1.51 µs per loop\n"
          ]
        }
      ]
    },
    {
      "cell_type": "code",
      "metadata": {
        "colab": {
          "base_uri": "https://localhost:8080/"
        },
        "id": "aAitjhPzz_HX",
        "outputId": "3c8a4a27-811b-4e6a-bff8-1357cf761e51"
      },
      "source": [
        "d=np.array([1,2,3,4,5,6,7,8,9])\n",
        "e=np.array([10,20,30,40,50,60,70,90,100])\n",
        "#a+b\n",
        "c=a+b\n",
        "print(c)\n",
        "%timeit sum(c)"
      ],
      "execution_count": null,
      "outputs": [
        {
          "output_type": "stream",
          "name": "stdout",
          "text": [
            "[1, 2, 3, 10, 20, 30]\n",
            "The slowest run took 8.43 times longer than the fastest. This could mean that an intermediate result is being cached.\n",
            "10000000 loops, best of 5: 167 ns per loop\n"
          ]
        }
      ]
    },
    {
      "cell_type": "code",
      "metadata": {
        "colab": {
          "base_uri": "https://localhost:8080/",
          "height": 246
        },
        "id": "0qYUwBla1n9I",
        "outputId": "cdbd67e6-3b83-427d-ac5b-a519b1d76c63"
      },
      "source": [
        "import numpy as np\n",
        "\n",
        "a=np.array([1,2,3,4])\n",
        "print(type(a))\n",
        "#print(a.shape)\n",
        "\n",
        "print(a[0],a[1],a[2],a[3])\n",
        "a[4]=5\n",
        "print(a)"
      ],
      "execution_count": null,
      "outputs": [
        {
          "output_type": "stream",
          "name": "stdout",
          "text": [
            "<class 'numpy.ndarray'>\n",
            "1 2 3 4\n"
          ]
        },
        {
          "output_type": "error",
          "ename": "IndexError",
          "evalue": "ignored",
          "traceback": [
            "\u001b[0;31m---------------------------------------------------------------------------\u001b[0m",
            "\u001b[0;31mIndexError\u001b[0m                                Traceback (most recent call last)",
            "\u001b[0;32m<ipython-input-21-b41dc101febd>\u001b[0m in \u001b[0;36m<module>\u001b[0;34m()\u001b[0m\n\u001b[1;32m      6\u001b[0m \u001b[0;34m\u001b[0m\u001b[0m\n\u001b[1;32m      7\u001b[0m \u001b[0mprint\u001b[0m\u001b[0;34m(\u001b[0m\u001b[0ma\u001b[0m\u001b[0;34m[\u001b[0m\u001b[0;36m0\u001b[0m\u001b[0;34m]\u001b[0m\u001b[0;34m,\u001b[0m\u001b[0ma\u001b[0m\u001b[0;34m[\u001b[0m\u001b[0;36m1\u001b[0m\u001b[0;34m]\u001b[0m\u001b[0;34m,\u001b[0m\u001b[0ma\u001b[0m\u001b[0;34m[\u001b[0m\u001b[0;36m2\u001b[0m\u001b[0;34m]\u001b[0m\u001b[0;34m,\u001b[0m\u001b[0ma\u001b[0m\u001b[0;34m[\u001b[0m\u001b[0;36m3\u001b[0m\u001b[0;34m]\u001b[0m\u001b[0;34m)\u001b[0m\u001b[0;34m\u001b[0m\u001b[0;34m\u001b[0m\u001b[0m\n\u001b[0;32m----> 8\u001b[0;31m \u001b[0ma\u001b[0m\u001b[0;34m[\u001b[0m\u001b[0;36m4\u001b[0m\u001b[0;34m]\u001b[0m\u001b[0;34m=\u001b[0m\u001b[0;36m5\u001b[0m\u001b[0;34m\u001b[0m\u001b[0;34m\u001b[0m\u001b[0m\n\u001b[0m\u001b[1;32m      9\u001b[0m \u001b[0mprint\u001b[0m\u001b[0;34m(\u001b[0m\u001b[0ma\u001b[0m\u001b[0;34m)\u001b[0m\u001b[0;34m\u001b[0m\u001b[0;34m\u001b[0m\u001b[0m\n",
            "\u001b[0;31mIndexError\u001b[0m: index 4 is out of bounds for axis 0 with size 4"
          ]
        }
      ]
    },
    {
      "cell_type": "code",
      "metadata": {
        "id": "Bzl_q8xLyh0r"
      },
      "source": [
        ""
      ],
      "execution_count": null,
      "outputs": []
    }
  ]
}