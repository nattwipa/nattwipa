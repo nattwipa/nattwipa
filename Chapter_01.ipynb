{
  "nbformat": 4,
  "nbformat_minor": 0,
  "metadata": {
    "colab": {
      "name": "Chapter_01.ipynb",
      "provenance": [],
      "authorship_tag": "ABX9TyOQ6/07ffqwkb4VsIBHUe+l",
      "include_colab_link": true
    },
    "kernelspec": {
      "name": "python3",
      "display_name": "Python 3"
    },
    "language_info": {
      "name": "python"
    }
  },
  "cells": [
    {
      "cell_type": "markdown",
      "metadata": {
        "id": "view-in-github",
        "colab_type": "text"
      },
      "source": [
        "<a href=\"https://colab.research.google.com/github/nattwipa/nattwipa/blob/circleci-project-setup/Chapter_01.ipynb\" target=\"_parent\"><img src=\"https://colab.research.google.com/assets/colab-badge.svg\" alt=\"Open In Colab\"/></a>"
      ]
    },
    {
      "cell_type": "code",
      "metadata": {
        "colab": {
          "base_uri": "https://localhost:8080/"
        },
        "id": "PHlln8D9TzNo",
        "outputId": "c51ca763-e1d9-4462-e8f1-5c63db67e206"
      },
      "source": [
        "print(\"สวัสดีค่ะ\");"
      ],
      "execution_count": null,
      "outputs": [
        {
          "output_type": "stream",
          "name": "stdout",
          "text": [
            "สวัสดีค่ะ\n"
          ]
        }
      ]
    },
    {
      "cell_type": "code",
      "metadata": {
        "id": "tB0NAgtNT7CE"
      },
      "source": [
        "กรอกข้อมูล b = 10\n",
        "  กรอกข้อมูล c = 20\n",
        "  print a\n",
        "  a = b+c"
      ],
      "execution_count": null,
      "outputs": []
    },
    {
      "cell_type": "code",
      "metadata": {
        "id": "5gd3ajdaT9H8",
        "outputId": "2d510fc9-8502-40d8-fa3b-d7818bdc8bad",
        "colab": {
          "base_uri": "https://localhost:8080/"
        }
      },
      "source": [
        "b = 10 \n",
        "c = 20\n",
        "a=b+c;\n",
        "print(a)"
      ],
      "execution_count": null,
      "outputs": [
        {
          "output_type": "stream",
          "name": "stdout",
          "text": [
            "30\n"
          ]
        }
      ]
    },
    {
      "cell_type": "code",
      "metadata": {
        "id": "1T3ILYmsUBIK",
        "outputId": "c7a72ef0-6deb-4b83-fc9b-a0bc4f962d7b",
        "colab": {
          "base_uri": "https://localhost:8080/"
        }
      },
      "source": [
        "print ('Login My Page' )\n",
        "username = input ('Username : ')\n",
        "password = input ('Password : ')\n",
        "\n",
        "if (username == 'nattwipa' and password == '123456' ):\n",
        "  print ('Welcome to my web , you\\.ve logged in.' )\n",
        "else :\n",
        "  print ('Invalid username or password. ')"
      ],
      "execution_count": null,
      "outputs": [
        {
          "output_type": "stream",
          "name": "stdout",
          "text": [
            "Login My Page\n",
            "Username : nattwipa\n",
            "Password : 123456\n",
            "Welcome to my web , you\\.ve logged in.\n"
          ]
        }
      ]
    }
  ]
}